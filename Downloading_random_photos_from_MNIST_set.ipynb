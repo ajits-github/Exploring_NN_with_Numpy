{
  "cells": [
    {
      "cell_type": "markdown",
      "metadata": {
        "id": "NGBO_SBUIi3p"
      },
      "source": [
        "# Downloading random photos from the MNIST set\n",
        "---\n",
        "\n",
        "### Simple auxiliary script"
      ]
    },
    {
      "cell_type": "markdown",
      "metadata": {
        "id": "Pq1rxZRhIi3q"
      },
      "source": [
        "## Imports"
      ]
    },
    {
      "cell_type": "code",
      "execution_count": null,
      "metadata": {
        "id": "1hG_Xer6Ii3r"
      },
      "outputs": [],
      "source": [
        "import numpy as np\n",
        "import matplotlib.pyplot as plt\n",
        "import os\n",
        "from mlxtend.data import loadlocal_mnist\n",
        "import matplotlib.pyplot as plt\n",
        "import matplotlib\n",
        "import random\n",
        "%matplotlib inline\n",
        "%load_ext autoreload\n",
        "%autoreload 2"
      ]
    },
    {
      "cell_type": "markdown",
      "metadata": {
        "id": "v9QK_SugIi3r"
      },
      "source": [
        "## Download dataset"
      ]
    },
    {
      "cell_type": "code",
      "execution_count": null,
      "metadata": {
        "id": "tvHoKOAFIi3r"
      },
      "outputs": [],
      "source": [
        "def download_mnist_dataset():\n",
        "    # The MNIST data set is available at http://yann.lecun.com, let's use curl to download it\n",
        "    if not os.path.exists(\"train-images-idx3-ubyte\"):\n",
        "        !curl -O http://yann.lecun.com/exdb/mnist/train-images-idx3-ubyte.gz\n",
        "        !curl -O http://yann.lecun.com/exdb/mnist/train-labels-idx1-ubyte.gz\n",
        "        !curl -O http://yann.lecun.com/exdb/mnist/t10k-images-idx3-ubyte.gz\n",
        "        !curl -O http://yann.lecun.com/exdb/mnist/t10k-labels-idx1-ubyte.gz\n",
        "        !gunzip t*-ubyte.gz\n",
        "\n",
        "    # Let's use loadlocal_mnist available in mlxtend.data to get data in numpy array form.\n",
        "    X1, y1 = loadlocal_mnist(\n",
        "        images_path=\"train-images-idx3-ubyte\",\n",
        "        labels_path=\"train-labels-idx1-ubyte\")\n",
        "\n",
        "    X2, y2 = loadlocal_mnist(\n",
        "        images_path=\"t10k-images-idx3-ubyte\",\n",
        "        labels_path=\"t10k-labels-idx1-ubyte\")\n",
        "\n",
        "    # We normalize the brightness values for pixels\n",
        "    X1 = X1.reshape(X1.shape[0], -1) / 255\n",
        "    X2 = X2.reshape(X2.shape[0], -1) /255\n",
        "\n",
        "    # Combine downloaded data bundles\n",
        "    X = np.concatenate([X1, X2])\n",
        "    y = np.concatenate([y1, y2])\n",
        "\n",
        "    return X, y"
      ]
    },
    {
      "cell_type": "code",
      "execution_count": null,
      "metadata": {
        "id": "sD4GLqiVIi3s"
      },
      "outputs": [],
      "source": [
        "X, y = download_mnist_dataset()"
      ]
    },
    {
      "cell_type": "markdown",
      "metadata": {
        "id": "yrpmmm1sIi3s"
      },
      "source": [
        "## Auxiliary function to display the selected data set element"
      ]
    },
    {
      "cell_type": "code",
      "execution_count": null,
      "metadata": {
        "id": "Cvv30BMeIi3s"
      },
      "outputs": [],
      "source": [
        "def plot_digit(X, idx):\n",
        "    img = X[idx, :].reshape(28,28)\n",
        "    plt.style.use('dark_background')\n",
        "    plt.figure(figsize=(6,6))\n",
        "    plt.imshow(img, cmap='gray',  interpolation='nearest')\n",
        "    plt.axis('off')\n",
        "    ax = plt.gca()\n",
        "    ax.xaxis.set_major_locator(matplotlib.ticker.NullLocator())\n",
        "    ax.yaxis.set_major_locator(matplotlib.ticker.NullLocator())\n",
        "    plt.savefig(str(idx) + \".png\", bbox_inches='tight', pad_inches = 0)"
      ]
    },
    {
      "cell_type": "markdown",
      "metadata": {
        "id": "xmBYR-RkIi3s"
      },
      "source": [
        "## Save random images"
      ]
    },
    {
      "cell_type": "code",
      "execution_count": null,
      "metadata": {
        "scrolled": true,
        "id": "sl18n5xjIi3s"
      },
      "outputs": [],
      "source": [
        "for i in range(300):\n",
        "    plot_digit(X, i)"
      ]
    }
  ],
  "metadata": {
    "kernelspec": {
      "display_name": "Python 3",
      "language": "python",
      "name": "python3"
    },
    "language_info": {
      "codemirror_mode": {
        "name": "ipython",
        "version": 3
      },
      "file_extension": ".py",
      "mimetype": "text/x-python",
      "name": "python",
      "nbconvert_exporter": "python",
      "pygments_lexer": "ipython3",
      "version": "3.6.7"
    },
    "colab": {
      "provenance": []
    }
  },
  "nbformat": 4,
  "nbformat_minor": 0
}