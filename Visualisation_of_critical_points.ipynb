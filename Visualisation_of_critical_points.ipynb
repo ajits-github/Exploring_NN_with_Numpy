{
  "cells": [
    {
      "cell_type": "markdown",
      "metadata": {
        "id": "view-in-github",
        "colab_type": "text"
      },
      "source": [
        "<a href=\"https://colab.research.google.com/github/ajits-github/Exploring_NN_with_Numpy/blob/main/Visualisation_of_critical_points.ipynb\" target=\"_parent\"><img src=\"https://colab.research.google.com/assets/colab-badge.svg\" alt=\"Open In Colab\"/></a>"
      ]
    },
    {
      "cell_type": "markdown",
      "metadata": {
        "id": "IbE7wGbwbDih"
      },
      "source": [
        "# Visualisation of critical points\n",
        "---\n",
        "## Use of TensorFlow optimizers to locate function minima"
      ]
    },
    {
      "cell_type": "markdown",
      "metadata": {
        "id": "QgUMBNlhbDiq"
      },
      "source": [
        "### Imports"
      ]
    },
    {
      "cell_type": "code",
      "execution_count": null,
      "metadata": {
        "id": "C4EJ3hcobDir"
      },
      "outputs": [],
      "source": [
        "import tensorflow as tf\n",
        "import numpy as np\n",
        "import matplotlib.pyplot as plt\n",
        "from mpl_toolkits.mplot3d import Axes3D"
      ]
    },
    {
      "cell_type": "markdown",
      "metadata": {
        "id": "Keh0Pl10bDis"
      },
      "source": [
        "### Settings"
      ]
    },
    {
      "cell_type": "code",
      "execution_count": null,
      "metadata": {
        "id": "N_4MzUmEbDis"
      },
      "outputs": [],
      "source": [
        "# learning rate\n",
        "LR = 0.005\n",
        "# parameters a and b of the real function\n",
        "REAL_PARAMS = [1, 1]\n",
        "# starting point for gradient descent\n",
        "INIT_PARAMS = [1, 0]\n",
        "# output directory (the folder must be created on the drive)\n",
        "OUTPUT_DIR = \"saddle_point\""
      ]
    },
    {
      "cell_type": "markdown",
      "metadata": {
        "id": "Os0t1ScMbDit"
      },
      "source": [
        "### Performing the simulation"
      ]
    },
    {
      "cell_type": "code",
      "execution_count": null,
      "metadata": {
        "id": "5YPMlLpebDit"
      },
      "outputs": [],
      "source": [
        "def find_optimization_path(tf_function, init_point, iterations):\n",
        "    x, y = [tf.Variable(initial_value=p, dtype=tf.float32) for p in init_point]\n",
        "    function = tf_function(x, y)\n",
        "    train_op = tf.train.GradientDescentOptimizer(LR).minimize(function)\n",
        "    x_list, y_list, cost_list = [], [], []\n",
        "\n",
        "    with tf.Session() as sess:\n",
        "        sess.run(tf.global_variables_initializer())\n",
        "        for t in range(iterations):\n",
        "            x_, y_, function_ = sess.run([x, y, function])\n",
        "            x_list.append(x_); y_list.append(y_); cost_list.append(function_)\n",
        "            result, _ = sess.run([function, train_op])\n",
        "\n",
        "    return x_list, y_list, cost_list"
      ]
    },
    {
      "cell_type": "markdown",
      "metadata": {
        "id": "bUuvsgPlbDiu"
      },
      "source": [
        "### Create a blank chart"
      ]
    },
    {
      "cell_type": "code",
      "execution_count": null,
      "metadata": {
        "id": "FgX-7Bx3bDiu"
      },
      "outputs": [],
      "source": [
        "def create_blank_chart_with_styling(plot_size):\n",
        "    # my favorite styling kit\n",
        "    plt.style.use('dark_background')\n",
        "    # determining the size of the graph\n",
        "    fig = plt.figure(figsize=plot_size)\n",
        "    # 3D mode\n",
        "    ax = Axes3D(fig)\n",
        "    # transparent axis pane background\n",
        "    ax.xaxis.pane.fill = False\n",
        "    ax.yaxis.pane.fill = False\n",
        "    ax.zaxis.pane.fill = False\n",
        "    # setting chart axis names\n",
        "    ax.set(xlabel=\"$x$\", ylabel=\"$y$\")\n",
        "    return (fig, ax)"
      ]
    }
  ],
  "metadata": {
    "kernelspec": {
      "display_name": "Python 3",
      "language": "python",
      "name": "python3"
    },
    "language_info": {
      "codemirror_mode": {
        "name": "ipython",
        "version": 3
      },
      "file_extension": ".py",
      "mimetype": "text/x-python",
      "name": "python",
      "nbconvert_exporter": "python",
      "pygments_lexer": "ipython3",
      "version": "3.5.2"
    },
    "colab": {
      "provenance": [],
      "include_colab_link": true
    }
  },
  "nbformat": 4,
  "nbformat_minor": 0
}